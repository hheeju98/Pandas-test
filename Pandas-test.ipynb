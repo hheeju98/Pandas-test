{
 "cells": [
  {
   "cell_type": "code",
   "execution_count": 2,
   "id": "dbb4ec1b",
   "metadata": {},
   "outputs": [],
   "source": [
    "import pandas as pd\n",
    "import numpy as np\n",
    "\n",
    "import matplotlib.pyplot as plt\n",
    "\n",
    "from sklearn.neighbors import KNeighborsClassifier"
   ]
  },
  {
   "cell_type": "code",
   "execution_count": 3,
   "id": "df9651a4",
   "metadata": {
    "scrolled": true
   },
   "outputs": [],
   "source": [
    "d1 = pd.read_csv(\"bream_length.csv\").to_numpy()\n",
    "d2 = pd.read_csv(\"bream_weight.csv\").to_numpy()\n",
    "d3 = pd.read_csv(\"smelt_length.csv\").to_numpy()\n",
    "d4 = pd.read_csv(\"smelt_weight.csv\").to_numpy()"
   ]
  },
  {
   "cell_type": "code",
   "execution_count": 4,
   "id": "e7325686",
   "metadata": {},
   "outputs": [
    {
     "data": {
      "image/png": "[encoded data removed]",
      "text/plain": [
       "<Figure size 432x288 with 1 Axes>"
      ]
     },
     "metadata": {
      "needs_background": "light"
     },
     "output_type": "display_data"
    }
   ],
   "source": [
    "import matplotlib.pyplot as plt\n",
    "plt.scatter(d1, d2)\n",
    "plt.scatter(d3, d4)\n",
    "plt.xlabel(\"length\") \n",
    "plt.ylabel(\"weight\") \n",
    "plt.show()\n"
   ]
  },
  {
   "cell_type": "code",
   "execution_count": 5,
   "id": "8760ff0a",
   "metadata": {},
   "outputs": [],
   "source": [
    "length = np.concatenate([d1, d3])\n",
    "weight = np.concatenate([d2, d4]) "
   ]
  },
  {
   "cell_type": "code",
   "execution_count": 6,
   "id": "118c85cc",
   "metadata": {},
   "outputs": [
    {
     "name": "stdout",
     "output_type": "stream",
     "text": [
      "[[array([26.3]), array([290.])], [array([26.5]), array([340.])], [array([29.]), array([363.])], [array([29.]), array([430.])], [array([29.7]), array([450.])], [array([29.7]), array([500.])], [array([30.]), array([390.])], [array([30.]), array([450.])], [array([30.7]), array([500.])], [array([31.]), array([475.])], [array([31.]), array([500.])], [array([31.5]), array([500.])], [array([32.]), array([340.])], [array([32.]), array([600.])], [array([32.]), array([600.])], [array([33.]), array([700.])], [array([33.]), array([700.])], [array([33.5]), array([610.])], [array([33.5]), array([650.])], [array([34.]), array([575.])], [array([34.]), array([685.])], [array([34.5]), array([620.])], [array([35.]), array([680.])], [array([35.]), array([700.])], [array([35.]), array([725.])], [array([35.]), array([720.])], [array([36.]), array([714.])], [array([36.]), array([850.])], [array([37.]), array([1000.])], [array([38.5]), array([920.])], [array([38.5]), array([955.])], [array([39.5]), array([925.])], [array([41.]), array([975.])], [array([41.]), array([950.])], [array([10.5]), array([7.5])], [array([10.6]), array([7.])], [array([11.]), array([9.7])], [array([11.2]), array([9.8])], [array([11.3]), array([8.7])], [array([11.8]), array([10.])], [array([11.8]), array([9.9])], [array([12.]), array([9.8])], [array([12.2]), array([12.2])], [array([12.4]), array([13.4])], [array([13.]), array([12.2])], [array([14.3]), array([19.7])], [array([15.]), array([19.9])]]\n"
     ]
    }
   ],
   "source": [
    "fish_data = [[l, w] for l, w in zip(length, weight)]\n",
    "print(fish_data)"
   ]
  },
  {
   "cell_type": "code",
   "execution_count": 7,
   "id": "8d77bb89",
   "metadata": {},
   "outputs": [],
   "source": [
    "fish_target = np.array([1]*35+[0]*14)"
   ]
  },
  {
   "cell_type": "code",
   "execution_count": 8,
   "id": "24b0e003",
   "metadata": {},
   "outputs": [],
   "source": [
    "input_arr = np.array(fish_data)\n",
    "target_arr = np.array(fish_target)"
   ]
  },
  {
   "cell_type": "code",
   "execution_count": 9,
   "id": "85565c26",
   "metadata": {},
   "outputs": [
    {
     "name": "stdout",
     "output_type": "stream",
     "text": [
      "[40 39  0 19 25 43 20 28 37  9 33 29 44 10 16 22  4 34 26  1 14 35 32 23\n",
      " 21 36  2 18  8 12  5 24 11  7  6 17  3 30 13 27 45 38 15 42 31 46 41]\n"
     ]
    }
   ],
   "source": [
    "index = np.arange(47)\n",
    "np.random.shuffle(index)\n",
    "print(index)"
   ]
  },
  {
   "cell_type": "code",
   "execution_count": 10,
   "id": "beccc0f5",
   "metadata": {},
   "outputs": [
    {
     "data": {
      "text/plain": [
       "<matplotlib.collections.PathCollection at 0x1bf2f7a5f10>"
      ]
     },
     "execution_count": 10,
     "metadata": {},
     "output_type": "execute_result"
    },
    {
     "data": {
      "image/png": "[encoded data removed]",
      "text/plain": [
       "<Figure size 432x288 with 1 Axes>"
      ]
     },
     "metadata": {
      "needs_background": "light"
     },
     "output_type": "display_data"
    }
   ],
   "source": [
    "train_input = input_arr[index[:35]]\n",
    "train_target = target_arr[index[:35]]\n",
    "test_input = input_arr[index[35:]]\n",
    "test_target = target_arr[index[35:]]\n",
    "plt.scatter(train_input[:, 0], train_input[:, 1])\n",
    "plt.scatter(test_input[:, 0], test_input[:, 1])"
   ]
  },
  {
   "cell_type": "code",
   "execution_count": null,
   "id": "93b84622",
   "metadata": {},
   "outputs": [],
   "source": []
  }
 ],
 "metadata": {
  "kernelspec": {
   "display_name": "Python 3 (ipykernel)",
   "language": "python",
   "name": "python3"
  },
  "language_info": {
   "codemirror_mode": {
    "name": "ipython",
    "version": 3
   },
   "file_extension": ".py",
   "mimetype": "text/x-python",
   "name": "python",
   "nbconvert_exporter": "python",
   "pygments_lexer": "ipython3",
   "version": "3.9.7"
  }
 },
 "nbformat": 4,
 "nbformat_minor": 5
}
